{
  "nbformat": 4,
  "nbformat_minor": 0,
  "metadata": {
    "colab": {
      "name": "20201009AI0205_selectAlgo.ipynb",
      "provenance": [],
      "authorship_tag": "ABX9TyONQ72eNFTK+g5l6mSTy+XN",
      "include_colab_link": true
    },
    "kernelspec": {
      "name": "python3",
      "display_name": "Python 3"
    }
  },
  "cells": [
    {
      "cell_type": "markdown",
      "metadata": {
        "id": "view-in-github",
        "colab_type": "text"
      },
      "source": [
        "<a href=\"https://colab.research.google.com/github/aso1801003/AI_teach2020/blob/master/20201009AI0205_selectAlgo.ipynb\" target=\"_parent\"><img src=\"https://colab.research.google.com/assets/colab-badge.svg\" alt=\"Open In Colab\"/></a>"
      ]
    },
    {
      "cell_type": "markdown",
      "metadata": {
        "id": "cyRylVJKlHsH"
      },
      "source": [
        "### sklearnでエラーが出るので、前のバージョンを入れなおす"
      ]
    },
    {
      "cell_type": "code",
      "metadata": {
        "id": "eMfLfql5k1Ae"
      },
      "source": [
        "# ## 現在のscikit-leran えおcolabのVMからアンインストール\n",
        "# !pip uninstall scikit-learn\n",
        "# ## 前のバージョンを指定してVMにインストール\n",
        "# !pip install scikit-learn==0.20 --ignore-installed"
      ],
      "execution_count": 8,
      "outputs": []
    },
    {
      "cell_type": "markdown",
      "metadata": {
        "id": "X-PtEgxblMwC"
      },
      "source": [
        "### all_estimators()でループして各種のアルゴリズムで学習させ、比較する"
      ]
    },
    {
      "cell_type": "code",
      "metadata": {
        "id": "AZlzxDUmlMZw"
      },
      "source": [
        "# ライブラリの読み込み\n",
        "import pandas as pd\n",
        "# 学習データとテスト検証用データを分割するライブラリ\n",
        "from sklearn.model_selection import train_test_split\n",
        "# 正解率を算出するライブラリ\n",
        "from sklearn.metrics import accuracy_score\n",
        "# all_estimators(推定期のすべてを利用できるようにする)\n",
        "from sklearn.utils.testing import all_estimators\n",
        "# 警告クラス\n",
        "import warnings"
      ],
      "execution_count": 9,
      "outputs": []
    },
    {
      "cell_type": "markdown",
      "metadata": {
        "id": "A6U0sKLhlSnu"
      },
      "source": [
        "### WEBからアヤメのデータを読み込む"
      ]
    },
    {
      "cell_type": "code",
      "metadata": {
        "colab": {
          "base_uri": "https://localhost:8080/",
          "height": 204
        },
        "id": "14XlhefqlR56",
        "outputId": "abf491f7-a3f5-465d-8fe2-f3c77266fc23"
      },
      "source": [
        "# urlリンクから読み込むライブラリ\n",
        "import urllib.request as req\n",
        "# url用の文字列変数を定義\n",
        "url = \"https://raw.githubusercontent.com/pandas-dev/pandas/master/pandas/tests/io/data/csv/iris.csv\"\n",
        "# リンクから保存するためのファイルを定義\n",
        "savefile = \"iris.csv\"\n",
        "# requestクラスを使ってurlからでーたをsavefileへコピーして保存\n",
        "req.urlretrieve(url, savefile)\n",
        "# pandasのread_csvメソッドを使ってCSVファイルを読み込む\n",
        "iris_data = pd.read_csv(savefile, encoding=\"utf-8\")\n",
        "iris_data.head()"
      ],
      "execution_count": 10,
      "outputs": [
        {
          "output_type": "execute_result",
          "data": {
            "text/html": [
              "<div>\n",
              "<style scoped>\n",
              "    .dataframe tbody tr th:only-of-type {\n",
              "        vertical-align: middle;\n",
              "    }\n",
              "\n",
              "    .dataframe tbody tr th {\n",
              "        vertical-align: top;\n",
              "    }\n",
              "\n",
              "    .dataframe thead th {\n",
              "        text-align: right;\n",
              "    }\n",
              "</style>\n",
              "<table border=\"1\" class=\"dataframe\">\n",
              "  <thead>\n",
              "    <tr style=\"text-align: right;\">\n",
              "      <th></th>\n",
              "      <th>SepalLength</th>\n",
              "      <th>SepalWidth</th>\n",
              "      <th>PetalLength</th>\n",
              "      <th>PetalWidth</th>\n",
              "      <th>Name</th>\n",
              "    </tr>\n",
              "  </thead>\n",
              "  <tbody>\n",
              "    <tr>\n",
              "      <th>0</th>\n",
              "      <td>5.1</td>\n",
              "      <td>3.5</td>\n",
              "      <td>1.4</td>\n",
              "      <td>0.2</td>\n",
              "      <td>Iris-setosa</td>\n",
              "    </tr>\n",
              "    <tr>\n",
              "      <th>1</th>\n",
              "      <td>4.9</td>\n",
              "      <td>3.0</td>\n",
              "      <td>1.4</td>\n",
              "      <td>0.2</td>\n",
              "      <td>Iris-setosa</td>\n",
              "    </tr>\n",
              "    <tr>\n",
              "      <th>2</th>\n",
              "      <td>4.7</td>\n",
              "      <td>3.2</td>\n",
              "      <td>1.3</td>\n",
              "      <td>0.2</td>\n",
              "      <td>Iris-setosa</td>\n",
              "    </tr>\n",
              "    <tr>\n",
              "      <th>3</th>\n",
              "      <td>4.6</td>\n",
              "      <td>3.1</td>\n",
              "      <td>1.5</td>\n",
              "      <td>0.2</td>\n",
              "      <td>Iris-setosa</td>\n",
              "    </tr>\n",
              "    <tr>\n",
              "      <th>4</th>\n",
              "      <td>5.0</td>\n",
              "      <td>3.6</td>\n",
              "      <td>1.4</td>\n",
              "      <td>0.2</td>\n",
              "      <td>Iris-setosa</td>\n",
              "    </tr>\n",
              "  </tbody>\n",
              "</table>\n",
              "</div>"
            ],
            "text/plain": [
              "   SepalLength  SepalWidth  PetalLength  PetalWidth         Name\n",
              "0          5.1         3.5          1.4         0.2  Iris-setosa\n",
              "1          4.9         3.0          1.4         0.2  Iris-setosa\n",
              "2          4.7         3.2          1.3         0.2  Iris-setosa\n",
              "3          4.6         3.1          1.5         0.2  Iris-setosa\n",
              "4          5.0         3.6          1.4         0.2  Iris-setosa"
            ]
          },
          "metadata": {
            "tags": []
          },
          "execution_count": 10
        }
      ]
    },
    {
      "cell_type": "markdown",
      "metadata": {
        "id": "j7PdC0Nalbp9"
      },
      "source": [
        "### アヤメデータを目的変数：ｙと説明変数：ｘに分類する"
      ]
    },
    {
      "cell_type": "code",
      "metadata": {
        "colab": {
          "base_uri": "https://localhost:8080/"
        },
        "id": "gdr4D0WilYh1",
        "outputId": "2a01862a-679e-4ec8-b2e8-4eaa76be9186"
      },
      "source": [
        "y = iris_data.loc[:, \"Name\"] # 目的変数\n",
        "x = iris_data.loc[:, [\"SepalLength\", \"SepalWidth\", \"PetalLength\", \"PetalWidth\"]] # 説明変数\n",
        "\n",
        "print( y.head() )\n",
        "print( x.head() )"
      ],
      "execution_count": 11,
      "outputs": [
        {
          "output_type": "stream",
          "text": [
            "0    Iris-setosa\n",
            "1    Iris-setosa\n",
            "2    Iris-setosa\n",
            "3    Iris-setosa\n",
            "4    Iris-setosa\n",
            "Name: Name, dtype: object\n",
            "   SepalLength  SepalWidth  PetalLength  PetalWidth\n",
            "0          5.1         3.5          1.4         0.2\n",
            "1          4.9         3.0          1.4         0.2\n",
            "2          4.7         3.2          1.3         0.2\n",
            "3          4.6         3.1          1.5         0.2\n",
            "4          5.0         3.6          1.4         0.2\n"
          ],
          "name": "stdout"
        }
      ]
    },
    {
      "cell_type": "code",
      "metadata": {
        "colab": {
          "base_uri": "https://localhost:8080/"
        },
        "id": "5oeRCZ35lefd",
        "outputId": "4cbe99dc-fddf-4e5b-e2cc-246f75eb94bc"
      },
      "source": [
        "# 学習用データ（train)とテスト検証用データ（test）に分離\n",
        "x_train, x_test, y_train, y_test = train_test_split(x, y, test_size=0.2, train_size=0.8, shuffle=True)\n",
        "print(x_train.head())\n",
        "print(x_train.head())\n",
        "print(x_test.head())"
      ],
      "execution_count": 12,
      "outputs": [
        {
          "output_type": "stream",
          "text": [
            "     SepalLength  SepalWidth  PetalLength  PetalWidth\n",
            "141          6.9         3.1          5.1         2.3\n",
            "1            4.9         3.0          1.4         0.2\n",
            "50           7.0         3.2          4.7         1.4\n",
            "140          6.7         3.1          5.6         2.4\n",
            "105          7.6         3.0          6.6         2.1\n",
            "     SepalLength  SepalWidth  PetalLength  PetalWidth\n",
            "141          6.9         3.1          5.1         2.3\n",
            "1            4.9         3.0          1.4         0.2\n",
            "50           7.0         3.2          4.7         1.4\n",
            "140          6.7         3.1          5.6         2.4\n",
            "105          7.6         3.0          6.6         2.1\n",
            "     SepalLength  SepalWidth  PetalLength  PetalWidth\n",
            "104          6.5         3.0          5.8         2.2\n",
            "35           5.0         3.2          1.2         0.2\n",
            "120          6.9         3.2          5.7         2.3\n",
            "98           5.1         2.5          3.0         1.1\n",
            "44           5.1         3.8          1.9         0.4\n"
          ],
          "name": "stdout"
        }
      ]
    },
    {
      "cell_type": "markdown",
      "metadata": {
        "id": "71xGZhtqli7M"
      },
      "source": [
        "### allAlgorithmsにcclassifierを指定して「分類」でフィルターしたアルゴリズムの推定期群を取得する"
      ]
    },
    {
      "cell_type": "code",
      "metadata": {
        "id": "MvQU1Lw7lgSC"
      },
      "source": [
        "# 水滴のリストをフィルター指定して取得\n",
        "allAlgorithms = all_estimators(type_filter=\"classifier\")\n",
        "# ワーニングを無視する\n",
        "warnings.filterwarnings('ignore')"
      ],
      "execution_count": 13,
      "outputs": []
    },
    {
      "cell_type": "markdown",
      "metadata": {
        "id": "gvct4XmclnhW"
      },
      "source": [
        "### 推定期のリストをループしながら学習＆推論させる"
      ]
    },
    {
      "cell_type": "code",
      "metadata": {
        "colab": {
          "base_uri": "https://localhost:8080/"
        },
        "id": "jBjYFXmDllgO",
        "outputId": "60933ca3-2b2a-4b13-9e9f-dc3ce25ab110"
      },
      "source": [
        "# 推定器のリストをループ\n",
        "for (name, algorithm) in allAlgorithms:\n",
        "  # pythonでのtry-catch(try-except)\n",
        "  try: # pythonのtry\n",
        "    # 各アルゴリズムのオブジェクトを生成\n",
        "    clf = algorithm() # 各アルゴリズムのクラスのコンストラクタを実行\n",
        "    # 学習させる(fitメソッド)\n",
        "    clf.fit(x_train, y_train)\n",
        "    # 推論する\n",
        "    y_pred = clf.predict(x_test)\n",
        "    # accuracy_scoreで正解率を産出して表示\n",
        "    print(name, \"の正解率 = \", accuracy_score(y_test, y_pred))\n",
        "  except Exception as e: #pythonのcatch(except)\n",
        "    print(\"\\033[31m\" , \" Error: \\033[0m\", name, \":\" , e.args)\n",
        "    # print(\"エラーです\")\n",
        "  else:\n",
        "    # print(\"エラー以外\")\n",
        "    pass\n",
        "# for終了"
      ],
      "execution_count": 16,
      "outputs": [
        {
          "output_type": "stream",
          "text": [
            "AdaBoostClassifier の正解率 =  0.9333333333333333\n",
            "BaggingClassifier の正解率 =  0.9666666666666667\n",
            "BernoulliNB の正解率 =  0.3\n",
            "CalibratedClassifierCV の正解率 =  0.9333333333333333\n",
            "CategoricalNB の正解率 =  1.0\n",
            "\u001b[31m  Error: \u001b[0m CheckingClassifier : (\"could not convert string to float: 'Iris-virginica'\",)\n",
            "\u001b[31m  Error: \u001b[0m ClassifierChain : (\"__init__() missing 1 required positional argument: 'base_estimator'\",)\n",
            "ComplementNB の正解率 =  0.7\n",
            "DecisionTreeClassifier の正解率 =  0.9666666666666667\n",
            "DummyClassifier の正解率 =  0.36666666666666664\n",
            "ExtraTreeClassifier の正解率 =  0.9333333333333333\n",
            "ExtraTreesClassifier の正解率 =  0.9666666666666667\n",
            "GaussianNB の正解率 =  0.9333333333333333\n",
            "GaussianProcessClassifier の正解率 =  1.0\n",
            "GradientBoostingClassifier の正解率 =  0.9666666666666667\n",
            "HistGradientBoostingClassifier の正解率 =  0.9\n",
            "KNeighborsClassifier の正解率 =  0.9666666666666667\n",
            "LabelPropagation の正解率 =  0.9333333333333333\n",
            "LabelSpreading の正解率 =  0.9666666666666667\n",
            "LinearDiscriminantAnalysis の正解率 =  0.9666666666666667\n",
            "LinearSVC の正解率 =  0.9333333333333333\n",
            "LogisticRegression の正解率 =  1.0\n",
            "LogisticRegressionCV の正解率 =  1.0\n",
            "MLPClassifier の正解率 =  0.9666666666666667\n",
            "\u001b[31m  Error: \u001b[0m MultiOutputClassifier : (\"__init__() missing 1 required positional argument: 'estimator'\",)\n",
            "MultinomialNB の正解率 =  0.9333333333333333\n",
            "NearestCentroid の正解率 =  0.9333333333333333\n",
            "NuSVC の正解率 =  1.0\n",
            "\u001b[31m  Error: \u001b[0m OneVsOneClassifier : (\"__init__() missing 1 required positional argument: 'estimator'\",)\n",
            "\u001b[31m  Error: \u001b[0m OneVsRestClassifier : (\"__init__() missing 1 required positional argument: 'estimator'\",)\n",
            "\u001b[31m  Error: \u001b[0m OutputCodeClassifier : (\"__init__() missing 1 required positional argument: 'estimator'\",)\n",
            "PassiveAggressiveClassifier の正解率 =  0.8666666666666667\n",
            "Perceptron の正解率 =  0.8\n",
            "QuadraticDiscriminantAnalysis の正解率 =  0.9666666666666667\n",
            "RadiusNeighborsClassifier の正解率 =  0.9666666666666667\n",
            "RandomForestClassifier の正解率 =  0.9333333333333333\n",
            "RidgeClassifier の正解率 =  0.9\n",
            "RidgeClassifierCV の正解率 =  0.9\n",
            "SGDClassifier の正解率 =  0.7\n",
            "SVC の正解率 =  1.0\n",
            "\u001b[31m  Error: \u001b[0m StackingClassifier : (\"__init__() missing 1 required positional argument: 'estimators'\",)\n",
            "\u001b[31m  Error: \u001b[0m VotingClassifier : (\"__init__() missing 1 required positional argument: 'estimators'\",)\n"
          ],
          "name": "stdout"
        }
      ]
    },
    {
      "cell_type": "markdown",
      "metadata": {
        "id": "B5fw1ZDnl2mR"
      },
      "source": [
        "### クロスバリデーション"
      ]
    },
    {
      "cell_type": "markdown",
      "metadata": {
        "id": "WbpMSUVqmQey"
      },
      "source": [
        "### クロスバリデーション関連のライブラリのインポート"
      ]
    },
    {
      "cell_type": "code",
      "metadata": {
        "id": "jMt-hltOlp7Q"
      },
      "source": [
        "# ライブラリのインポート\n",
        "# 分割クロスバリデーション\n",
        "from sklearn.model_selection import KFold\n",
        "# クロスバリデーションスコアを取得す流ためのコード\n",
        "from sklearn.model_selection import cross_val_score"
      ],
      "execution_count": 15,
      "outputs": []
    },
    {
      "cell_type": "markdown",
      "metadata": {
        "id": "KyXPljyRmN98"
      },
      "source": [
        "### クロスバリデーションを実行する"
      ]
    },
    {
      "cell_type": "code",
      "metadata": {
        "id": "DJVgVq26l5Y4"
      },
      "source": [
        "# K分割考査検証\n",
        "kfold_cv = KFold(n_splits=5, shuffle=True)\n",
        "# すでに生成してあるall_estimatorsのインスタンスをループさせて、クロスバリデーションを行う\n",
        "for( name, algorithms ) in allAlgorithms:\n",
        "  try:\n",
        "    # 各アルゴリズムのインスタンスを取得\n",
        "    clf = algorithm()\n",
        "    # scoreの属性がある学習モデルだけに絞る\n",
        "    if hasattr( clf, \"score\" ):\n",
        "      # クロスバリデーションをしてスコアを取得する\n",
        "      scores = cross_val_score(clf,x,y, cv=kfold_cv)\n",
        "      #　k=n_splits=5 回文のクロスバリデーションのスコアを表示\n",
        "      print( name, \"の正解率\" )\n",
        "      print( scores )\n",
        "    # ifブロックの終了\n",
        "  # tryブロックの終了\n",
        "  except: # 例外処理ブロック\n",
        "    # 何もしない\n",
        "    pass"
      ],
      "execution_count": 17,
      "outputs": []
    },
    {
      "cell_type": "markdown",
      "metadata": {
        "id": "0-7pl3ihmVnw"
      },
      "source": [
        "### おまけ:cross_val_scoreもっと詳しい結果を取得できる新しいクロスバリデーションオブジェクト:cross_validate"
      ]
    },
    {
      "cell_type": "code",
      "metadata": {
        "id": "dpyinXh6mTRO"
      },
      "source": [
        "# ライブラリのインポート\n",
        "from sklearn.model_selection import cross_validate"
      ],
      "execution_count": 18,
      "outputs": []
    },
    {
      "cell_type": "markdown",
      "metadata": {
        "id": "fZSMkE-jmass"
      },
      "source": [
        "### cross_validateを使ったクロスバリデーション"
      ]
    },
    {
      "cell_type": "code",
      "metadata": {
        "id": "Fozu5B9cmYzy"
      },
      "source": [
        "# K分割考査検証\n",
        "kfold_cv = KFold(n_splits=5, shuffle=True)\n",
        "# すでに生成してあるall_estimatorsのインスタンスをループさせて、クロスバリデーションを行う\n",
        "for( name, algorithms ) in allAlgorithms:\n",
        "  try:\n",
        "    # 各アルゴリズムのインスタンスを取得\n",
        "    clf = algorithm()\n",
        "    # scoreの属性がある学習モデルだけに絞る\n",
        "    if hasattr( clf, \"score\" ):\n",
        "      # クロスバリデーションをしてスコアを取得する\n",
        "      scores = cross_validate(clf,x,y, cv=kfold_cv)\n",
        "      #　k=n_splits=5 回文のクロスバリデーションのスコアを表示\n",
        "      print( name, \"の正解率\" )\n",
        "      print( scores )\n",
        "    # ifブロックの終了\n",
        "  # tryブロックの終了\n",
        "  except: # 例外処理ブロック\n",
        "    # 何もしない\n",
        "    pass"
      ],
      "execution_count": 19,
      "outputs": []
    },
    {
      "cell_type": "markdown",
      "metadata": {
        "id": "vODGbG7imfq2"
      },
      "source": [
        "### グリッドサーチ"
      ]
    },
    {
      "cell_type": "code",
      "metadata": {
        "id": "BX6YADqmmdBy"
      },
      "source": [
        "from sklearn.model_selection import GridSearchCV\n",
        "# SVCアルゴリズムの学習モデルをimport\n",
        "from sklearn.svm import SVC"
      ],
      "execution_count": 20,
      "outputs": []
    },
    {
      "cell_type": "code",
      "metadata": {
        "colab": {
          "base_uri": "https://localhost:8080/"
        },
        "id": "cxrPrpXXmjnC",
        "outputId": "5abb7d6d-70d7-45b5-d25e-8d0896f61eb2"
      },
      "source": [
        "parameters = [\n",
        "              # 3つのパラメータ、３パターン\n",
        "              {\"C\":[1,10,100,1000],\"kernel\":[\"linear\"]}, \n",
        "              {\"C\":[1,10,100,1000],\"kernel\":[\"rbf\"], \"gamma\":[0.001,0.0001]}, \n",
        "              {\"C\":[1,10,100,1000],\"kernel\":[\"sigmoid\"], \"gamma\":[0.001,0.0001]},\n",
        "]\n",
        "\n",
        "# 普通の学習\n",
        "clf = SVC()\n",
        "clf.fit(x_train, y_train)\n",
        "y_pred = clf.predict(x_test)\n",
        "print(\"普通の学習の正解率 = \", accuracy_score(y_test, y_pred))\n",
        "\n",
        "# グリッドサーチを行う\n",
        "# K分割考査検証用のインスタンスを生成する\n",
        "kfold_cv = KFold( n_splits=5, shuffle=True )\n",
        "#　グリッドサーチのなかでK分割考査検証も行われる\n",
        "clf_gird = GridSearchCV( SVC(), parameters, cv=kfold_cv )\n",
        "clf_gird.fit(x_train, y_train)# 学習\n",
        "# 学習ズミのモデルに最終的に設定されたパラメータを表示\n",
        "print(\"最適なパラメーター　= \", clf_gird.best_estimator_)\n",
        "\n",
        "# 最適なパラメーター設定ズミの学習モデルで評価\n",
        "y_pred = clf_gird.predict(x_test)\n",
        "print(\"グリッドサーチの正解率 = \" , accuracy_score(y_test, y_pred))"
      ],
      "execution_count": 21,
      "outputs": [
        {
          "output_type": "stream",
          "text": [
            "普通の学習の正解率 =  1.0\n",
            "最適なパラメーター　=  SVC(C=1, break_ties=False, cache_size=200, class_weight=None, coef0=0.0,\n",
            "    decision_function_shape='ovr', degree=3, gamma='scale', kernel='linear',\n",
            "    max_iter=-1, probability=False, random_state=None, shrinking=True,\n",
            "    tol=0.001, verbose=False)\n",
            "グリッドサーチの正解率 =  1.0\n"
          ],
          "name": "stdout"
        }
      ]
    },
    {
      "cell_type": "markdown",
      "metadata": {
        "id": "bB0DNYjdmpLA"
      },
      "source": [
        "### Numpyの動作確認"
      ]
    },
    {
      "cell_type": "code",
      "metadata": {
        "id": "d0y69_O6mm89"
      },
      "source": [
        "# import\n",
        "import numpy as np"
      ],
      "execution_count": 22,
      "outputs": []
    },
    {
      "cell_type": "code",
      "metadata": {
        "colab": {
          "base_uri": "https://localhost:8080/"
        },
        "id": "eyn_imaMmw-t",
        "outputId": "f68d9fc9-41fa-423b-d427-4d9bef7ccf4d"
      },
      "source": [
        "# numpy配列の初期化\n",
        "a = np.array([1,2,3,4,5]) # numpy配列オブジェクトを生成\n",
        "print(a)\n",
        "# 型を表示\n",
        "print(type(a))"
      ],
      "execution_count": 23,
      "outputs": [
        {
          "output_type": "stream",
          "text": [
            "[1 2 3 4 5]\n",
            "<class 'numpy.ndarray'>\n"
          ],
          "name": "stdout"
        }
      ]
    },
    {
      "cell_type": "code",
      "metadata": {
        "colab": {
          "base_uri": "https://localhost:8080/"
        },
        "id": "bUIztOlRmzqU",
        "outputId": "d0de2c47-5be0-4c7e-866f-9b6daaa8d90d"
      },
      "source": [
        "# 二次元のndarrayを定義\n",
        "b = np.array([[1,2,3],[4,5,6]])\n",
        "print(b)"
      ],
      "execution_count": 24,
      "outputs": [
        {
          "output_type": "stream",
          "text": [
            "[[1 2 3]\n",
            " [4 5 6]]\n"
          ],
          "name": "stdout"
        }
      ]
    },
    {
      "cell_type": "code",
      "metadata": {
        "colab": {
          "base_uri": "https://localhost:8080/"
        },
        "id": "7Zqj5FrGm1lQ",
        "outputId": "c9f97595-1483-43c5-bde8-326d54a3cfc7"
      },
      "source": [
        "# 配列の要素数を指定して０うめで初期化\n",
        "print(np.zeros(10))\n",
        "print(np.zeros((3,2)))\n",
        "print(np.ones(2))"
      ],
      "execution_count": 25,
      "outputs": [
        {
          "output_type": "stream",
          "text": [
            "[0. 0. 0. 0. 0. 0. 0. 0. 0. 0.]\n",
            "[[0. 0.]\n",
            " [0. 0.]\n",
            " [0. 0.]]\n",
            "[1. 1.]\n"
          ],
          "name": "stdout"
        }
      ]
    },
    {
      "cell_type": "code",
      "metadata": {
        "colab": {
          "base_uri": "https://localhost:8080/"
        },
        "id": "zfgHAGgAm3vH",
        "outputId": "4edca68c-2de1-42f0-b612-3640ef5d64bc"
      },
      "source": [
        "# 配連番の配列を要素数を指定して初期化\n",
        "print(np.arange(5))\n",
        "print(np.arange(2,9))\n",
        "print(np.arange(5,8,0.5))"
      ],
      "execution_count": 26,
      "outputs": [
        {
          "output_type": "stream",
          "text": [
            "[0 1 2 3 4]\n",
            "[2 3 4 5 6 7 8]\n",
            "[5.  5.5 6.  6.5 7.  7.5]\n"
          ],
          "name": "stdout"
        }
      ]
    },
    {
      "cell_type": "code",
      "metadata": {
        "colab": {
          "base_uri": "https://localhost:8080/"
        },
        "id": "fQ-yLK9Im5Yd",
        "outputId": "c60df896-4ffb-4402-99c8-72c598462912"
      },
      "source": [
        "# numpyで行列計算\n",
        "a = np.array([1,2,3,4,5])\n",
        "b = a*2\n",
        "print(b)\n",
        "x = np.arange(10)\n",
        "print(x)\n",
        "y = 3*x + 5\n",
        "print(y)"
      ],
      "execution_count": 27,
      "outputs": [
        {
          "output_type": "stream",
          "text": [
            "[ 2  4  6  8 10]\n",
            "[0 1 2 3 4 5 6 7 8 9]\n",
            "[ 5  8 11 14 17 20 23 26 29 32]\n"
          ],
          "name": "stdout"
        }
      ]
    },
    {
      "cell_type": "code",
      "metadata": {
        "colab": {
          "base_uri": "https://localhost:8080/"
        },
        "id": "s_6XlekUm96R",
        "outputId": "03b2f10e-e03b-4033-ee61-e68a208817ea"
      },
      "source": [
        "# 配列の次元数を表示\n",
        "a = np.array( [[1, 2, 3], [4, 5, 6]] )\n",
        "print(a)\n",
        "print(a.shape)\n",
        "\n",
        "b = np.array([[1, 2, 3], [4, 5, 6], [7, 8, 9]])\n",
        "print(b)\n",
        "print(b.shape)"
      ],
      "execution_count": 30,
      "outputs": [
        {
          "output_type": "stream",
          "text": [
            "[[1 2 3]\n",
            " [4 5 6]]\n",
            "(2, 3)\n",
            "[[1 2 3]\n",
            " [4 5 6]\n",
            " [7 8 9]]\n",
            "(3, 3)\n"
          ],
          "name": "stdout"
        }
      ]
    },
    {
      "cell_type": "code",
      "metadata": {
        "colab": {
          "base_uri": "https://localhost:8080/"
        },
        "id": "c3qVJ8S4nHzK",
        "outputId": "d9aaecd3-8cd9-4159-b5a1-fa90e8a37793"
      },
      "source": [
        "# Numpy配列で次元数を変換する\n",
        "a = np.array([[1,2,3],[4,5,6]])\n",
        "print(\"a=\", a)\n",
        "b = a.flatten()\n",
        "print(\"b=\", b)\n",
        "\n",
        "a = np.array([[1,2,3],[4,5,6]])\n",
        "print(a)\n",
        "b = a.reshape(3,2)\n",
        "print(b)"
      ],
      "execution_count": 31,
      "outputs": [
        {
          "output_type": "stream",
          "text": [
            "a= [[1 2 3]\n",
            " [4 5 6]]\n",
            "b= [1 2 3 4 5 6]\n",
            "[[1 2 3]\n",
            " [4 5 6]]\n",
            "[[1 2]\n",
            " [3 4]\n",
            " [5 6]]\n"
          ],
          "name": "stdout"
        }
      ]
    },
    {
      "cell_type": "code",
      "metadata": {
        "colab": {
          "base_uri": "https://localhost:8080/"
        },
        "id": "z51DEbwYnM-Z",
        "outputId": "c187687d-1bbb-449c-c046-1fe3d1f351d2"
      },
      "source": [
        "v = np.array([[1,2,3],[4,5,6],[7,8,9]])\n",
        "a = v[0]\n",
        "print(a) # 二次元配列の０行目\n",
        "b = v[1:] #  一列目いこう\n",
        "print(b)\n",
        "c = v[:,0]\n",
        "print(c)"
      ],
      "execution_count": 32,
      "outputs": [
        {
          "output_type": "stream",
          "text": [
            "[1 2 3]\n",
            "[[4 5 6]\n",
            " [7 8 9]]\n",
            "[1 4 7]\n"
          ],
          "name": "stdout"
        }
      ]
    },
    {
      "cell_type": "code",
      "metadata": {
        "id": "nHrxQRkpnQJt"
      },
      "source": [
        ""
      ],
      "execution_count": null,
      "outputs": []
    }
  ]
}