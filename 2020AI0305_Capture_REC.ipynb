{
  "nbformat": 4,
  "nbformat_minor": 0,
  "metadata": {
    "colab": {
      "name": "2020AI0305_Capture_REC.ipynb",
      "provenance": [],
      "collapsed_sections": [],
      "authorship_tag": "ABX9TyO/oRTWyETw1Go+sFUjO4SN",
      "include_colab_link": true
    },
    "kernelspec": {
      "name": "python3",
      "display_name": "Python 3"
    }
  },
  "cells": [
    {
      "cell_type": "markdown",
      "metadata": {
        "id": "view-in-github",
        "colab_type": "text"
      },
      "source": [
        "<a href=\"https://colab.research.google.com/github/aso1801003/AI_teach2020/blob/master/2020AI0305_Capture_REC.ipynb\" target=\"_parent\"><img src=\"https://colab.research.google.com/assets/colab-badge.svg\" alt=\"Open In Colab\"/></a>"
      ]
    },
    {
      "cell_type": "code",
      "metadata": {
        "id": "stGMYN6nijqu"
      },
      "source": [
        "# ライブラリのインポート\n",
        "import cv2, os\n",
        "import urllib.request as req"
      ],
      "execution_count": 3,
      "outputs": []
    },
    {
      "cell_type": "markdown",
      "metadata": {
        "id": "FPxbYgfHjo0J"
      },
      "source": [
        "### 動画ファイルのダウンロード"
      ]
    },
    {
      "cell_type": "code",
      "metadata": {
        "colab": {
          "base_uri": "https://localhost:8080/"
        },
        "id": "ZzTMEzm0jiUB",
        "outputId": "c4b10266-55ff-4e84-c74f-835603eefef8"
      },
      "source": [
        "url = \"https://github.com/masatokg/sample_photo/raw/master/fish.mp4\"\n",
        "save_file=\"fish.mp4\"\n",
        "req.urlretrieve( url, save_file )"
      ],
      "execution_count": 4,
      "outputs": [
        {
          "output_type": "execute_result",
          "data": {
            "text/plain": [
              "('fish.mp4', <http.client.HTTPMessage at 0x7f20ce8fec88>)"
            ]
          },
          "metadata": {
            "tags": []
          },
          "execution_count": 4
        }
      ]
    },
    {
      "cell_type": "markdown",
      "metadata": {
        "id": "OQIo2Z2VjsSE"
      },
      "source": [
        "### キャプチャ処理用の定義"
      ]
    },
    {
      "cell_type": "code",
      "metadata": {
        "id": "hPUKcS_7jr1a"
      },
      "source": [
        "# 保存ファイル名\n",
        "out_file = \"out.mp4\"\n",
        "# キャプチャソースを指定してキャプチャインスタンスを取得\n",
        "# webカメラの場合、０動画ファイルの場合、ファイルパス\n",
        "cap = cv2.VideoCapture( save_file )\n",
        "# 動画フォーマット（mp４ビデオ）を指定するインスタンスを取得\n",
        "fourcc = cv2.VideoWriter_fourcc('M', 'P', '4', 'V')\n",
        "# フレームレート（fps）を指定\n",
        "fps = 30.0"
      ],
      "execution_count": 5,
      "outputs": []
    },
    {
      "cell_type": "markdown",
      "metadata": {
        "id": "fnDtyvU6j24a"
      },
      "source": [
        "### キャプチャしたフレームの加工処理用関数"
      ]
    },
    {
      "cell_type": "code",
      "metadata": {
        "id": "AyE_ImcBjxcz"
      },
      "source": [
        "# フレームを引数で受け取り、加工して戻り値で返す\n",
        "def process_img( frame ):\n",
        "\n",
        "  #　加工処理\n",
        "  # BGRのうち、BGを０にしてRの光だけにする\n",
        "  frame[:, :, 0] = 0; # B\n",
        "  frame[:, :, 1] = 0; # G\n",
        "  \n",
        "  return frame"
      ],
      "execution_count": 6,
      "outputs": []
    },
    {
      "cell_type": "markdown",
      "metadata": {
        "id": "fXJ_Xjqcj9Ab"
      },
      "source": [
        "### フレームを受け取り、そのフレームサイズでキャプチャ画像を録画するためのレコーダーを定義して戻り値で返す関数"
      ]
    },
    {
      "cell_type": "code",
      "metadata": {
        "id": "-CbvxKixj6NQ"
      },
      "source": [
        "def open_recorder( frame ):\n",
        "  h = len( frame ) # フレームの高さ（Numpy２次元配列の行数）\n",
        "  w = len( frame[0] ) # フレームの幅（Numpy２次元配列の列数）\n",
        "  size = (w,h) # フレーム画像サイズをタプル変数で定義\n",
        "  # レコーダーのインスタンスを生成\n",
        "  recorder = cv2.VideoWriter( out_file, fourcc, fps, size, isColor=True )\n",
        "  return recorder"
      ],
      "execution_count": 7,
      "outputs": []
    },
    {
      "cell_type": "markdown",
      "metadata": {
        "id": "7C5kweCckB47"
      },
      "source": [
        "### キャプチャの読み込み処理を実行"
      ]
    },
    {
      "cell_type": "code",
      "metadata": {
        "id": "4rlrIYsLj_xO"
      },
      "source": [
        "# 1フレーム読み込み\n",
        "is_ok, frame = cap.read()\n",
        "if is_ok:\n",
        "  print(\"1 frame has read.\")\n",
        "  # そのフレームを録画するレコーダーを開く自作関数\n",
        "  recorder = open_recorder( frame )\n",
        "  # 読み込むフレームがなくなるmでむげんるーぷ\n",
        "  while True:\n",
        "    #　読み込んだフレームを加工\n",
        "    frame = process_img(frame)\n",
        "    # 加工したフレームをレコーダーに書き込む\n",
        "    recorder.write( frame )\n",
        "    # 次の１フレームを読み込む\n",
        "    is_ok, frame = cap.read()\n",
        "    # 読み込むフレームがなかったら、無限ループをBreak\n",
        "    if is_ok is not True:\n",
        "      break\n",
        "    # if文終了\n",
        "  # while分終了\n",
        "  else:\n",
        "    print(\"there is no frame.\")\n",
        "  # if文終了"
      ],
      "execution_count": 10,
      "outputs": []
    },
    {
      "cell_type": "markdown",
      "metadata": {
        "id": "-qWLzZRbkJS8"
      },
      "source": [
        "### 後処理とダウンロード"
      ]
    },
    {
      "cell_type": "code",
      "metadata": {
        "colab": {
          "base_uri": "https://localhost:8080/",
          "height": 34
        },
        "id": "-bkTEbT_kFz-",
        "outputId": "677b07aa-2224-42b6-b44e-1e8be83a9860"
      },
      "source": [
        "# レコーダーの開放\n",
        "recorder.release()\n",
        "# キャプチャの開放\n",
        "cap.release()\n",
        "#　メッセージ\n",
        "print(\"capture and recording end.\")\n",
        "# 出力mp４ファイルのダウンロード処理\n",
        "from google.colab import files\n",
        "files.download( out_file )"
      ],
      "execution_count": 9,
      "outputs": [
        {
          "output_type": "stream",
          "text": [
            "capture and recording end.\n"
          ],
          "name": "stdout"
        },
        {
          "output_type": "display_data",
          "data": {
            "application/javascript": [
              "\n",
              "    async function download(id, filename, size) {\n",
              "      if (!google.colab.kernel.accessAllowed) {\n",
              "        return;\n",
              "      }\n",
              "      const div = document.createElement('div');\n",
              "      const label = document.createElement('label');\n",
              "      label.textContent = `Downloading \"${filename}\": `;\n",
              "      div.appendChild(label);\n",
              "      const progress = document.createElement('progress');\n",
              "      progress.max = size;\n",
              "      div.appendChild(progress);\n",
              "      document.body.appendChild(div);\n",
              "\n",
              "      const buffers = [];\n",
              "      let downloaded = 0;\n",
              "\n",
              "      const channel = await google.colab.kernel.comms.open(id);\n",
              "      // Send a message to notify the kernel that we're ready.\n",
              "      channel.send({})\n",
              "\n",
              "      for await (const message of channel.messages) {\n",
              "        // Send a message to notify the kernel that we're ready.\n",
              "        channel.send({})\n",
              "        if (message.buffers) {\n",
              "          for (const buffer of message.buffers) {\n",
              "            buffers.push(buffer);\n",
              "            downloaded += buffer.byteLength;\n",
              "            progress.value = downloaded;\n",
              "          }\n",
              "        }\n",
              "      }\n",
              "      const blob = new Blob(buffers, {type: 'application/binary'});\n",
              "      const a = document.createElement('a');\n",
              "      a.href = window.URL.createObjectURL(blob);\n",
              "      a.download = filename;\n",
              "      div.appendChild(a);\n",
              "      a.click();\n",
              "      div.remove();\n",
              "    }\n",
              "  "
            ],
            "text/plain": [
              "<IPython.core.display.Javascript object>"
            ]
          },
          "metadata": {
            "tags": []
          }
        },
        {
          "output_type": "display_data",
          "data": {
            "application/javascript": [
              "download(\"download_6344edad-0ef5-4cc9-a516-b89ac0d65af7\", \"out.mp4\", 11128507)"
            ],
            "text/plain": [
              "<IPython.core.display.Javascript object>"
            ]
          },
          "metadata": {
            "tags": []
          }
        }
      ]
    },
    {
      "cell_type": "code",
      "metadata": {
        "id": "iOXq1os0kMgK"
      },
      "source": [
        ""
      ],
      "execution_count": null,
      "outputs": []
    }
  ]
}