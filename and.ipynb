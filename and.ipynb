{
  "nbformat": 4,
  "nbformat_minor": 0,
  "metadata": {
    "colab": {
      "name": "and.ipynb",
      "provenance": [],
      "authorship_tag": "ABX9TyO+SCbGLHUCWpA7oIrbCsSG",
      "include_colab_link": true
    },
    "kernelspec": {
      "name": "python3",
      "display_name": "Python 3"
    }
  },
  "cells": [
    {
      "cell_type": "markdown",
      "metadata": {
        "id": "view-in-github",
        "colab_type": "text"
      },
      "source": [
        "<a href=\"https://colab.research.google.com/github/aso1801003/AI_teach2020/blob/master/and.ipynb\" target=\"_parent\"><img src=\"https://colab.research.google.com/assets/colab-badge.svg\" alt=\"Open In Colab\"/></a>"
      ]
    },
    {
      "cell_type": "markdown",
      "metadata": {
        "id": "tICuSl28aS6W",
        "colab_type": "text"
      },
      "source": [
        "### AND演算をモデルに学ばせる(LinearSVC)"
      ]
    },
    {
      "cell_type": "code",
      "metadata": {
        "id": "kQ15hmJeaf08",
        "colab_type": "code",
        "colab": {}
      },
      "source": [
        "# sckit-learnを使うため、インポートする\n",
        "# 線刑SVCのオブジェクト\n",
        "from sklearn.svm import LinearSVC\n",
        "# 結果を評価するためのオブジェクト\n",
        "from sklearn.metrics import accuracy_score"
      ],
      "execution_count": 3,
      "outputs": []
    },
    {
      "cell_type": "markdown",
      "metadata": {
        "id": "jJ0PyzZBcOWn",
        "colab_type": "text"
      },
      "source": [
        "### 学習のためのデータを用意する"
      ]
    },
    {
      "cell_type": "code",
      "metadata": {
        "id": "TSHedl3GbX6W",
        "colab_type": "code",
        "colab": {}
      },
      "source": [
        "# 入力値を表すデータ\n",
        "# 入力X,　入力Y\n",
        "learn_data = [ [0,0], [0,1], [1,0], [1,1] ]\n",
        "# (XとYのAND)結果\n",
        "learn_label = [ 0, 0, 0, 1 ]"
      ],
      "execution_count": 4,
      "outputs": []
    },
    {
      "cell_type": "markdown",
      "metadata": {
        "id": "Ruev7_e2cdNx",
        "colab_type": "text"
      },
      "source": [
        "### アルゴリズムのインスタンスを生成"
      ]
    },
    {
      "cell_type": "code",
      "metadata": {
        "id": "opekp7L_caj2",
        "colab_type": "code",
        "colab": {}
      },
      "source": [
        "# 線形SVCのインスタンスを生成\n",
        "clf = LinearSVC()"
      ],
      "execution_count": 5,
      "outputs": []
    },
    {
      "cell_type": "markdown",
      "metadata": {
        "id": "hqiCXvfPcq8c",
        "colab_type": "text"
      },
      "source": [
        "### モデルに学習させる"
      ]
    },
    {
      "cell_type": "code",
      "metadata": {
        "id": "v3_kWCF9cnVt",
        "colab_type": "code",
        "colab": {
          "base_uri": "https://localhost:8080/",
          "height": 85
        },
        "outputId": "90b67f14-35ad-4298-f737-643889e87337"
      },
      "source": [
        "clf.fit(learn_data, learn_label)"
      ],
      "execution_count": 6,
      "outputs": [
        {
          "output_type": "execute_result",
          "data": {
            "text/plain": [
              "LinearSVC(C=1.0, class_weight=None, dual=True, fit_intercept=True,\n",
              "          intercept_scaling=1, loss='squared_hinge', max_iter=1000,\n",
              "          multi_class='ovr', penalty='l2', random_state=None, tol=0.0001,\n",
              "          verbose=0)"
            ]
          },
          "metadata": {
            "tags": []
          },
          "execution_count": 6
        }
      ]
    },
    {
      "cell_type": "markdown",
      "metadata": {
        "id": "Rs5evg6qcx61",
        "colab_type": "text"
      },
      "source": [
        "### モデルが学習できたか、テストデータで予測させてみる"
      ]
    },
    {
      "cell_type": "code",
      "metadata": {
        "id": "e9XYB4OlcvHd",
        "colab_type": "code",
        "colab": {
          "base_uri": "https://localhost:8080/",
          "height": 68
        },
        "outputId": "e06a44a7-3b83-466b-a621-e1558e0a5954"
      },
      "source": [
        "# 予測用のテストデータ(検証データ)を作る\n",
        "test_data = [ [0,0], [1,0], [0,1], [1,1] ]\n",
        "# モデルにテストデータを回答させる（予測）\n",
        "test_label = clf.predict(test_data)\n",
        "print(test_label)\n",
        "# 予測結果の評価\n",
        "print(test_data, \"の予測結果：\", test_label)\n",
        "# 正解の精度を表示させる\n",
        "print(\"正解率　= \", accuracy_score([0, 0, 0, 1], test_label))"
      ],
      "execution_count": 8,
      "outputs": [
        {
          "output_type": "stream",
          "text": [
            "[0 0 0 1]\n",
            "[[0, 0], [1, 0], [0, 1], [1, 1]] の予測結果： [0 0 0 1]\n",
            "正解率　=  1.0\n"
          ],
          "name": "stdout"
        }
      ]
    },
    {
      "cell_type": "code",
      "metadata": {
        "id": "xjFem0TPc3Yj",
        "colab_type": "code",
        "colab": {}
      },
      "source": [
        ""
      ],
      "execution_count": null,
      "outputs": []
    }
  ]
}