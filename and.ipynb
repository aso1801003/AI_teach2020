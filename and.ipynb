{
  "nbformat": 4,
  "nbformat_minor": 0,
  "metadata": {
    "colab": {
      "name": "and.ipynb",
      "provenance": [],
      "authorship_tag": "ABX9TyOI38mCZxdcj68pwuCN9RIy",
      "include_colab_link": true
    },
    "kernelspec": {
      "name": "python3",
      "display_name": "Python 3"
    }
  },
  "cells": [
    {
      "cell_type": "markdown",
      "metadata": {
        "id": "view-in-github",
        "colab_type": "text"
      },
      "source": [
        "<a href=\"https://colab.research.google.com/github/aso1801003/AI_teach2020/blob/master/and.ipynb\" target=\"_parent\"><img src=\"https://colab.research.google.com/assets/colab-badge.svg\" alt=\"Open In Colab\"/></a>"
      ]
    },
    {
      "cell_type": "markdown",
      "metadata": {
        "id": "tICuSl28aS6W"
      },
      "source": [
        "### AND演算をモデルに学ばせる(LinearSVC)"
      ]
    },
    {
      "cell_type": "code",
      "metadata": {
        "id": "kQ15hmJeaf08"
      },
      "source": [
        "# sckit-learnを使うため、インポートする\n",
        "# 線刑SVCのオブジェクト\n",
        "from sklearn.svm import LinearSVC\n",
        "# 結果を評価するためのオブジェクト\n",
        "from sklearn.metrics import accuracy_score"
      ],
      "execution_count": 2,
      "outputs": []
    },
    {
      "cell_type": "markdown",
      "metadata": {
        "id": "jJ0PyzZBcOWn"
      },
      "source": [
        "### 学習のためのデータを用意する"
      ]
    },
    {
      "cell_type": "code",
      "metadata": {
        "id": "TSHedl3GbX6W"
      },
      "source": [
        "# 入力値を表すデータ\n",
        "# 入力X,　入力Y\n",
        "learn_data = [ [0,0], [0,1], [1,0], [1,1] ]\n",
        "# (XとYのAND)結果\n",
        "learn_label = [ 0, 0, 0, 1 ]"
      ],
      "execution_count": 3,
      "outputs": []
    },
    {
      "cell_type": "markdown",
      "metadata": {
        "id": "Ruev7_e2cdNx"
      },
      "source": [
        "### アルゴリズムのインスタンスを生成"
      ]
    },
    {
      "cell_type": "code",
      "metadata": {
        "id": "opekp7L_caj2"
      },
      "source": [
        "# 線形SVCのインスタンスを生成\n",
        "clf = LinearSVC()"
      ],
      "execution_count": 4,
      "outputs": []
    },
    {
      "cell_type": "markdown",
      "metadata": {
        "id": "hqiCXvfPcq8c"
      },
      "source": [
        "### モデルに学習させる"
      ]
    },
    {
      "cell_type": "code",
      "metadata": {
        "id": "v3_kWCF9cnVt",
        "outputId": "f8f43873-2d01-45f1-bb25-52ff7bfcdd2f",
        "colab": {
          "base_uri": "https://localhost:8080/",
          "height": 85
        }
      },
      "source": [
        "clf.fit(learn_data, learn_label)"
      ],
      "execution_count": 5,
      "outputs": [
        {
          "output_type": "execute_result",
          "data": {
            "text/plain": [
              "LinearSVC(C=1.0, class_weight=None, dual=True, fit_intercept=True,\n",
              "          intercept_scaling=1, loss='squared_hinge', max_iter=1000,\n",
              "          multi_class='ovr', penalty='l2', random_state=None, tol=0.0001,\n",
              "          verbose=0)"
            ]
          },
          "metadata": {
            "tags": []
          },
          "execution_count": 5
        }
      ]
    },
    {
      "cell_type": "markdown",
      "metadata": {
        "id": "Rs5evg6qcx61"
      },
      "source": [
        "### モデルが学習できたか、テストデータで予測させてみる"
      ]
    },
    {
      "cell_type": "code",
      "metadata": {
        "id": "e9XYB4OlcvHd",
        "outputId": "3818dce0-ab62-417a-a7a0-3c71376c32b3",
        "colab": {
          "base_uri": "https://localhost:8080/",
          "height": 68
        }
      },
      "source": [
        "# 予測用のテストデータ(検証データ)を作る\n",
        "test_data = [ [0,0], [1,0], [0,1], [1,1] ]\n",
        "# モデルにテストデータを回答させる（予測）\n",
        "test_label = clf.predict(test_data)\n",
        "print(test_label)\n",
        "# 予測結果の評価\n",
        "print(test_data, \"の予測結果：\", test_label)\n",
        "# 正解の精度を表示させる\n",
        "print(\"正解率　= \", accuracy_score([0, 0, 0, 1], test_label))"
      ],
      "execution_count": 6,
      "outputs": [
        {
          "output_type": "stream",
          "text": [
            "[0 0 0 1]\n",
            "[[0, 0], [1, 0], [0, 1], [1, 1]] の予測結果： [0 0 0 1]\n",
            "正解率　=  1.0\n"
          ],
          "name": "stdout"
        }
      ]
    },
    {
      "cell_type": "markdown",
      "metadata": {
        "id": "PD37mOtrXnM-"
      },
      "source": [
        "### XOR演算を実装する"
      ]
    },
    {
      "cell_type": "code",
      "metadata": {
        "id": "xjFem0TPc3Yj",
        "outputId": "5887033c-45aa-48ba-bf56-384f36df6d6f",
        "colab": {
          "base_uri": "https://localhost:8080/",
          "height": 85
        }
      },
      "source": [
        "# XOR演算を学習するためのデータを用意する\n",
        "# X,Yの順\n",
        "learn_data = [ [0,0],[1,0],[0,1],[1,1] ]\n",
        "# X or Yの結果正解データを渡す\n",
        "learn_label = [0,1,1,0]\n",
        "# 学習モデルのインスタンスを作る(LinearSVC)\n",
        "clf = LinearSVC()\n",
        "# 学習させる\n",
        "clf.fit(learn_data, learn_label)"
      ],
      "execution_count": 7,
      "outputs": [
        {
          "output_type": "execute_result",
          "data": {
            "text/plain": [
              "LinearSVC(C=1.0, class_weight=None, dual=True, fit_intercept=True,\n",
              "          intercept_scaling=1, loss='squared_hinge', max_iter=1000,\n",
              "          multi_class='ovr', penalty='l2', random_state=None, tol=0.0001,\n",
              "          verbose=0)"
            ]
          },
          "metadata": {
            "tags": []
          },
          "execution_count": 7
        }
      ]
    },
    {
      "cell_type": "code",
      "metadata": {
        "id": "a2rdqLrqYwVN"
      },
      "source": [
        "# 学習モデルに推論させる\n",
        "test_data = [ [0,0],[1,0],[0,1],[1,1] ]\n",
        "test_label = clf.predict(test_data)"
      ],
      "execution_count": 8,
      "outputs": []
    },
    {
      "cell_type": "code",
      "metadata": {
        "id": "RL7aTHOJZh4y",
        "outputId": "9ad055bf-7c87-4860-f526-9a9b15249432",
        "colab": {
          "base_uri": "https://localhost:8080/",
          "height": 51
        }
      },
      "source": [
        "# 結果を検証する\n",
        "print(test_data, \"の予測結果：\", test_label)\n",
        "print(\"正解率 = \", accuracy_score([0,1,1,0],test_label))"
      ],
      "execution_count": 9,
      "outputs": [
        {
          "output_type": "stream",
          "text": [
            "[[0, 0], [1, 0], [0, 1], [1, 1]] の予測結果： [1 1 1 1]\n",
            "正解率 =  0.5\n"
          ],
          "name": "stdout"
        }
      ]
    },
    {
      "cell_type": "markdown",
      "metadata": {
        "id": "4mtedPmNdfYw"
      },
      "source": [
        "### K近傍法でXOR演算を実装する"
      ]
    },
    {
      "cell_type": "code",
      "metadata": {
        "id": "aLs6WtKDaBpH"
      },
      "source": [
        "# K近傍法のアルゴリズムのクラスをimport\n",
        "from sklearn.neighbors import KNeighborsClassifier"
      ],
      "execution_count": 10,
      "outputs": []
    },
    {
      "cell_type": "code",
      "metadata": {
        "id": "LWV23w4CeV8u"
      },
      "source": [
        "# 学習モデルの変換clfをK近傍法アルゴリズムのインスタンスで上書き\n",
        "clf = KNeighborsClassifier(n_neighbors=1)"
      ],
      "execution_count": 11,
      "outputs": []
    },
    {
      "cell_type": "code",
      "metadata": {
        "id": "lybqkR9sebQ5",
        "outputId": "c62f6d85-f9fb-4891-e529-87264af1a8c6",
        "colab": {
          "base_uri": "https://localhost:8080/",
          "height": 68
        }
      },
      "source": [
        "# 学習用入力データ(learn_data)と結果用正解データ(learn_label)を使って学習\n",
        "clf.fit(learn_data, learn_label)"
      ],
      "execution_count": 12,
      "outputs": [
        {
          "output_type": "execute_result",
          "data": {
            "text/plain": [
              "KNeighborsClassifier(algorithm='auto', leaf_size=30, metric='minkowski',\n",
              "                     metric_params=None, n_jobs=None, n_neighbors=1, p=2,\n",
              "                     weights='uniform')"
            ]
          },
          "metadata": {
            "tags": []
          },
          "execution_count": 12
        }
      ]
    },
    {
      "cell_type": "code",
      "metadata": {
        "id": "KJUvJesNeeHT",
        "outputId": "b8d1ca02-4ce2-4821-f8af-4bba60a17e9c",
        "colab": {
          "base_uri": "https://localhost:8080/",
          "height": 51
        }
      },
      "source": [
        "# テスト検証用データ(test_data)と答え合わせ用の正解データ([0, 1, 1, 0])\n",
        "test_label = clf.predict(test_data)\n",
        "# 推論結果の評価\n",
        "print(test_data, \"の予測結果：\", test_label)\n",
        "print(\"正解率　 = \", accuracy_score([0,1,1,0], test_label))"
      ],
      "execution_count": 13,
      "outputs": [
        {
          "output_type": "stream",
          "text": [
            "[[0, 0], [1, 0], [0, 1], [1, 1]] の予測結果： [0 1 1 0]\n",
            "正解率　 =  1.0\n"
          ],
          "name": "stdout"
        }
      ]
    },
    {
      "cell_type": "code",
      "metadata": {
        "id": "Lxm63SbPeixc"
      },
      "source": [
        ""
      ],
      "execution_count": null,
      "outputs": []
    }
  ]
}